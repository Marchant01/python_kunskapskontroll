{
 "cells": [
  {
   "cell_type": "code",
   "execution_count": 2,
   "id": "17e22bda",
   "metadata": {},
   "outputs": [],
   "source": [
    "import numpy as np\n",
    "import matplotlib as pl\n",
    "import pandas as pd"
   ]
  },
  {
   "cell_type": "markdown",
   "id": "5f790523",
   "metadata": {},
   "source": [
    "# Del 1"
   ]
  },
  {
   "cell_type": "markdown",
   "id": "1ace03d4",
   "metadata": {},
   "source": [
    "## 1.\n",
    "Skillnaden mellan en tuple och en list i python är bland annat att en tuple är immutable, d.v.s. att den inte går att ändra efter att den har blivit instansierad. Båda har sina användningsområden men om man ska ändra data så är listor lättare att arbeta med."
   ]
  },
  {
   "cell_type": "markdown",
   "id": "e59da0bc",
   "metadata": {},
   "source": [
    "## 2.\n",
    "En funktion är en bit kod som man kan kalla på och vi skapar oftast funktioner när vi vill repetera en bit kod. Om vi ska använda oss av en lång matematisk uträkning är det lättare att skriva det som en funktion och kalla på den när vi behöver den istället för att om koden flera gånger. Det sparar både tid och kod."
   ]
  },
  {
   "cell_type": "markdown",
   "id": "9eadc453",
   "metadata": {},
   "source": [
    "##  3.\n",
    "#### a)\n",
    "När vi skapar klassar får vi även möjligheten att skapa instanser av objekt ur klassen.\n",
    "#### b)\n",
    "Med olika instanser av en klass kan vi även skapa attribut som beskriver dess status.\n",
    "#### c)\n",
    "Med metoder kan man modifiera statusen på en instans, likt funktioner."
   ]
  },
  {
   "cell_type": "markdown",
   "id": "3cf521b9",
   "metadata": {},
   "source": [
    "## 4.\n",
    "Streamlit är en tjänst som med deras bibliotek ger möjlighet att skapa web applikationer utan behovet av css, html och javascript. Istället är det byggt med python."
   ]
  },
  {
   "cell_type": "markdown",
   "id": "1dbc3908",
   "metadata": {},
   "source": [
    "## 5."
   ]
  },
  {
   "cell_type": "code",
   "execution_count": null,
   "id": "b668a148",
   "metadata": {},
   "outputs": [],
   "source": [
    "class BankAccount:\n",
    "    def __init__(self, account_holder, balance):\n",
    "        self.account_holder = account_holder\n",
    "        self.balance = balance\n",
    "    \n",
    "    def deposit(self, amount: int) -> int:\n",
    "        self.balance += amount\n",
    "        print('Deposited: ', amount, \n",
    "              '\\nCurrent Balance: ', self.balance)\n",
    "\n",
    "    def withdraw(self, amount: int) -> int:\n",
    "        if amount > self.balance:\n",
    "            print('Too low balance')\n",
    "        else:\n",
    "            self.balance -= amount\n",
    "            print('Withdrew: ', amount)"
   ]
  },
  {
   "cell_type": "code",
   "execution_count": 21,
   "id": "5f3445db",
   "metadata": {},
   "outputs": [
    {
     "name": "stdout",
     "output_type": "stream",
     "text": [
      "Celvin 100\n",
      "Deposited:  100 \n",
      "Current Balance:  200\n",
      "Too low balance\n",
      "Withdrew:  50\n"
     ]
    },
    {
     "data": {
      "text/plain": [
       "150"
      ]
     },
     "execution_count": 21,
     "metadata": {},
     "output_type": "execute_result"
    }
   ],
   "source": [
    "new_account = BankAccount('Celvin', 100)\n",
    "print(new_account.account_holder, new_account.balance)\n",
    "new_account.deposit(100)\n",
    "new_account.withdraw(300)\n",
    "new_account.withdraw(50)\n",
    "new_account.balance"
   ]
  },
  {
   "cell_type": "markdown",
   "id": "9587c96f",
   "metadata": {},
   "source": [
    "## 6."
   ]
  },
  {
   "cell_type": "code",
   "execution_count": 1,
   "id": "dcebcf25",
   "metadata": {},
   "outputs": [
    {
     "name": "stdout",
     "output_type": "stream",
     "text": [
      "2\n",
      "6\n",
      "15\n"
     ]
    }
   ],
   "source": [
    "# Doesn't count the total amount of vowels present in a string\n",
    "def vowel_checker(string: str) -> int:\n",
    "    vowels = ['A', 'E', 'I', 'O', 'U', 'Y', 'Å', 'Ä', 'Ö']\n",
    "    answer = [string.count(i) for i in vowels if i in string.upper()]\n",
    "    print(len(answer))\n",
    "\n",
    "vowel_checker('Python')\n",
    "\n",
    "# Prints a list of the amount of vowels present in the string\n",
    "def vowel_checker2(string: str) -> int:\n",
    "    vowels = ['A', 'E', 'I', 'O', 'U', 'Y', 'Å', 'Ä', 'Ö']\n",
    "    answer = sum(map(string.upper().count, vowels))\n",
    "    print(answer)\n",
    "\n",
    "vowel_checker2('python python python')\n",
    "\n",
    "def vowel_checker3(string):\n",
    "    vowels = 'aeiouyåäöAEIOUYÅÄÖ'\n",
    "    counter = 0\n",
    "    \n",
    "    for i in string:\n",
    "        if i in vowels:\n",
    "            counter += 1\n",
    "    \n",
    "    print(counter)\n",
    "\n",
    "vowel_checker3('åaåaåaåäaåaåAÖI')"
   ]
  },
  {
   "cell_type": "markdown",
   "id": "0c283f0e",
   "metadata": {},
   "source": [
    "## 7."
   ]
  },
  {
   "cell_type": "code",
   "execution_count": 138,
   "id": "70e712d7",
   "metadata": {},
   "outputs": [
    {
     "name": "stdout",
     "output_type": "stream",
     "text": [
      "['apple', 3]\n"
     ]
    }
   ],
   "source": [
    "def common_elements(list1, list2):\n",
    "    elements = [item for item in list1 if item in list2]\n",
    "    print(elements)\n",
    "\n",
    "common_elements([4, 'apple', 10, 'hi', 3], [23, 'apple', 5, 9, 3])"
   ]
  },
  {
   "cell_type": "markdown",
   "id": "38dde263",
   "metadata": {},
   "source": [
    "## 8.\n",
    "\n",
    "Även om det om enligt grafen så finns det ett samband mellan barnfödsel och storkar så finns det ingen riktigt kasualitet. När det kommer till barnafödsel bland människor finns det inget orsaksamband mellan storkpar som parar sig per år. Den verkliga orsaken till barnafödsel är kopplat till mänskliga faktorer som det sociala och ekonomiska. "
   ]
  },
  {
   "cell_type": "markdown",
   "id": "1f17022d",
   "metadata": {},
   "source": [
    "## 9.\n",
    "\n",
    "Det ena är inte bättre än de andra i sig utan det är snarare en fråga om situation och datan som man utför mätningar med. Höga värden kan påverka medelvärdet drastiskt vilket kan ge en felaktig representation av statistiken. Med datan nedanför hade kunnat motsvara inkomsten bland invånare i Sverige. Även om vi tydligt kan se att majoriteten av inkomsterna ligger mellan 25000 och 30000 lyfter den högsta inkomsten på 85000 upp medelvärdet till 41500. Kollar vi däremot på medianen kan vi se att den närmare påminner om datan."
   ]
  },
  {
   "cell_type": "code",
   "execution_count": 17,
   "id": "1e0de0ef",
   "metadata": {},
   "outputs": [
    {
     "name": "stdout",
     "output_type": "stream",
     "text": [
      "41500.0\n",
      "28000.0\n"
     ]
    }
   ],
   "source": [
    "data = pd.Series([25000, 30000, 26000, 85000])\n",
    "\n",
    "print(np.mean(data))\n",
    "print(np.median(data))"
   ]
  },
  {
   "cell_type": "markdown",
   "id": "f86b18d2",
   "metadata": {},
   "source": [
    "## 10.\n",
    "\n",
    "Cirkeldiagram används när man vill visualisera andelar av något. Om vi tar spotify som exempel skulle de kunna använda ett cirkeldiagram för att visualisera de mest spelade genrer på totalen. Eller kan de använda den för se vilka grupper baserat på t.ex. kön som använder deras platform."
   ]
  },
  {
   "cell_type": "markdown",
   "id": "110ec5c2",
   "metadata": {},
   "source": [
    "## 11.\n",
    "\n",
    "Linjediagram används när man vill se hur något har ändrats över tid. I fallet med Spotify kan de använda det för att se antalet aktiva användare genom åren eller månaderna. "
   ]
  },
  {
   "cell_type": "markdown",
   "id": "fe5b1a03",
   "metadata": {},
   "source": [
    "## 12.\n",
    "\n",
    "Låddiagram används för att visualisera spridningen kring medianen. Med hjälp av övre och nedre kvartilen kan man skapa en \"låda\" där vi tydligt ser spridningen av data."
   ]
  },
  {
   "cell_type": "markdown",
   "id": "dc97a8a2",
   "metadata": {},
   "source": [
    "# Del 2"
   ]
  },
  {
   "cell_type": "markdown",
   "id": "b1d4dbfd",
   "metadata": {},
   "source": [
    "## Syfte"
   ]
  },
  {
   "cell_type": "markdown",
   "id": "f6b43c1b",
   "metadata": {},
   "source": [
    "## Analys"
   ]
  },
  {
   "cell_type": "markdown",
   "id": "faaf4ae7",
   "metadata": {},
   "source": [
    "### Baserat på färg\n",
    "\n",
    "Trender visar att varmare toner är populära för deras unikhet."
   ]
  },
  {
   "cell_type": "code",
   "execution_count": null,
   "id": "e8b4ea6c",
   "metadata": {},
   "outputs": [],
   "source": []
  },
  {
   "cell_type": "markdown",
   "id": "c602abd7",
   "metadata": {},
   "source": [
    "### Baserat på karat\n",
    "\n",
    "Diamanter med högkarat brukar inte användas för smycken. Baserat på lite research brukar stenar mellan 0,5 - 2.0 vara vanligt."
   ]
  },
  {
   "cell_type": "markdown",
   "id": "3b331528",
   "metadata": {},
   "source": [
    "Diamanter med färgen G, mellan 0,5 - 2,0 följer både tränder, syfte och är i en rimlig prisklass. De har även fin klarhet för ringar vilket passar målgruppen. Inte så stor priskillnad mellan ideal, very good och premium slipning."
   ]
  },
  {
   "cell_type": "code",
   "execution_count": null,
   "id": "4b367600",
   "metadata": {},
   "outputs": [],
   "source": []
  },
  {
   "cell_type": "markdown",
   "id": "73a181d8",
   "metadata": {},
   "source": [
    "## Executive Summary"
   ]
  },
  {
   "cell_type": "markdown",
   "id": "d63febf3",
   "metadata": {},
   "source": []
  },
  {
   "cell_type": "markdown",
   "id": "d1a7fdd2",
   "metadata": {},
   "source": []
  }
 ],
 "metadata": {
  "kernelspec": {
   "display_name": "python_basics_env",
   "language": "python",
   "name": "python3"
  },
  "language_info": {
   "codemirror_mode": {
    "name": "ipython",
    "version": 3
   },
   "file_extension": ".py",
   "mimetype": "text/x-python",
   "name": "python",
   "nbconvert_exporter": "python",
   "pygments_lexer": "ipython3",
   "version": "3.13.2"
  }
 },
 "nbformat": 4,
 "nbformat_minor": 5
}
