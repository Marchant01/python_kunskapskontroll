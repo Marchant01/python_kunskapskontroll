{
 "cells": [
  {
   "cell_type": "code",
   "execution_count": 5,
   "id": "1d3d6b43",
   "metadata": {},
   "outputs": [],
   "source": [
    "import numpy as np\n",
    "import pandas as pd\n",
    "import matplotlib as plt\n",
    "\n",
    "data = pd.read_csv('./diamonds/diamonds.csv')"
   ]
  }
 ],
 "metadata": {
  "kernelspec": {
   "display_name": "python_basics_env",
   "language": "python",
   "name": "python3"
  },
  "language_info": {
   "codemirror_mode": {
    "name": "ipython",
    "version": 3
   },
   "file_extension": ".py",
   "mimetype": "text/x-python",
   "name": "python",
   "nbconvert_exporter": "python",
   "pygments_lexer": "ipython3",
   "version": "3.13.2"
  }
 },
 "nbformat": 4,
 "nbformat_minor": 5
}
